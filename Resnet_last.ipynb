{
 "cells": [
  {
   "cell_type": "markdown",
   "metadata": {},
   "source": [
    "## Import libraries"
   ]
  },
  {
   "cell_type": "code",
   "execution_count": 1,
   "metadata": {},
   "outputs": [
    {
     "name": "stderr",
     "output_type": "stream",
     "text": [
      "Using TensorFlow backend.\n"
     ]
    }
   ],
   "source": [
    "import numpy as np\n",
    "from sklearn.metrics import classification_report, confusion_matrix\n",
    "from keras.models import Model, load_model\n",
    "from keras.layers import Flatten, Dense, Lambda\n",
    "from keras.applications.resnet50 import ResNet50\n",
    "from keras.optimizers import Adam\n",
    "from keras.preprocessing import image"
   ]
  },
  {
   "cell_type": "markdown",
   "metadata": {},
   "source": [
    "## Set variables and import data"
   ]
  },
  {
   "cell_type": "code",
   "execution_count": 2,
   "metadata": {},
   "outputs": [],
   "source": [
    "gen = image.ImageDataGenerator()\n",
    "batch_size = 64"
   ]
  },
  {
   "cell_type": "code",
   "execution_count": 3,
   "metadata": {},
   "outputs": [
    {
     "name": "stdout",
     "output_type": "stream",
     "text": [
      "Found 34304 images belonging to 7 classes.\n"
     ]
    }
   ],
   "source": [
    "batches = gen.flow_from_directory('task3_data_final/train',\n",
    "                                  target_size=(224,224),\n",
    "                                  class_mode='categorical',\n",
    "                                  shuffle=True,\n",
    "                                  batch_size=batch_size)"
   ]
  },
  {
   "cell_type": "code",
   "execution_count": 11,
   "metadata": {},
   "outputs": [
    {
     "name": "stdout",
     "output_type": "stream",
     "text": [
      "Found 8584 images belonging to 7 classes.\n"
     ]
    }
   ],
   "source": [
    "val_batches = gen.flow_from_directory('task3_data_final/valid',\n",
    "                                      target_size=(224,224),\n",
    "                                      class_mode='categorical',\n",
    "                                      shuffle=False,\n",
    "                                      batch_size=batch_size)"
   ]
  },
  {
   "cell_type": "markdown",
   "metadata": {},
   "source": [
    "## Import, configure, and compile model"
   ]
  },
  {
   "cell_type": "code",
   "execution_count": 9,
   "metadata": {},
   "outputs": [],
   "source": [
    "resnet = ResNet50(include_top=True, weights='imagenet', input_tensor=None, input_shape=(224,224,3), pooling=None)\n",
    "\n",
    "x = resnet.layers[-2].output\n",
    "output_layer = Dense(7, activation='softmax', name='predictions')(x)\n",
    "\n",
    "resnet2 = Model(inputs=resnet.input, outputs=output_layer)\n",
    "\n",
    "resnet2.compile(optimizer=Adam(lr=0.000015),\n",
    "                loss='categorical_crossentropy', metrics=['accuracy'])"
   ]
  },
  {
   "cell_type": "markdown",
   "metadata": {},
   "source": [
    "## Train and save model"
   ]
  },
  {
   "cell_type": "code",
   "execution_count": 10,
   "metadata": {},
   "outputs": [
    {
     "name": "stdout",
     "output_type": "stream",
     "text": [
      "Epoch 1/1\n",
      "536/536 [==============================] - 281s 525ms/step - loss: 0.7592 - acc: 0.7234 - val_loss: 0.7210 - val_acc: 0.7381\n"
     ]
    },
    {
     "data": {
      "text/plain": [
       "<keras.callbacks.History at 0x7f548ee8ccf8>"
      ]
     },
     "execution_count": 10,
     "metadata": {},
     "output_type": "execute_result"
    }
   ],
   "source": [
    "resnet2.fit_generator(batches,\n",
    "                   steps_per_epoch = batches.samples // batch_size,\n",
    "                   validation_data = val_batches, \n",
    "                   validation_steps = val_batches.samples // batch_size,\n",
    "                   epochs = 1)"
   ]
  },
  {
   "cell_type": "code",
   "execution_count": 17,
   "metadata": {},
   "outputs": [],
   "source": [
    "resnet2.save('task3_models/resnet_last.h5')"
   ]
  },
  {
   "cell_type": "markdown",
   "metadata": {},
   "source": [
    "## Confusion and classification matrices"
   ]
  },
  {
   "cell_type": "code",
   "execution_count": 12,
   "metadata": {},
   "outputs": [],
   "source": [
    "Y_pred = resnet2.predict_generator(val_batches, val_batches.samples // batch_size+1)\n",
    "y_pred = np.argmax(Y_pred, axis=1)"
   ]
  },
  {
   "cell_type": "code",
   "execution_count": 13,
   "metadata": {},
   "outputs": [
    {
     "name": "stdout",
     "output_type": "stream",
     "text": [
      "Confusion Matrix\n",
      "[[ 504   73   92   53   42    4    0]\n",
      " [  61  618   40   17   30   23   35]\n",
      " [ 102   80 1200   35  221  122    0]\n",
      " [  64   46   13  387    7   26    1]\n",
      " [  82   49  249   14 1184  193   13]\n",
      " [   9   29  128   29  233 2237   15]\n",
      " [   0    1    3    0    8    6  206]]\n"
     ]
    }
   ],
   "source": [
    "print('Confusion Matrix')\n",
    "conf_matrix = confusion_matrix(val_batches.classes, y_pred)\n",
    "print(conf_matrix)\n",
    "np.savetxt(\"conf_matrix.csv\", conf_matrix, delimiter=\",\", fmt=\"%s\")"
   ]
  },
  {
   "cell_type": "code",
   "execution_count": 14,
   "metadata": {},
   "outputs": [
    {
     "name": "stdout",
     "output_type": "stream",
     "text": [
      "Classification Report\n",
      "             precision    recall  f1-score   support\n",
      "\n",
      "      AKIEC       0.61      0.66      0.63       768\n",
      "        BCC       0.69      0.75      0.72       824\n",
      "        BKL       0.70      0.68      0.69      1760\n",
      "         DF       0.72      0.71      0.72       544\n",
      "        MEL       0.69      0.66      0.67      1784\n",
      "         NV       0.86      0.83      0.85      2680\n",
      "       VASC       0.76      0.92      0.83       224\n",
      "\n",
      "avg / total       0.74      0.74      0.74      8584\n",
      "\n"
     ]
    }
   ],
   "source": [
    "print('Classification Report')\n",
    "target_names = ['AKIEC', 'BCC', 'BKL', 'DF', 'MEL', 'NV', 'VASC']\n",
    "print(classification_report(val_batches.classes, y_pred, target_names=target_names))"
   ]
  },
  {
   "cell_type": "markdown",
   "metadata": {},
   "source": [
    "## Load model, generate predictions, and output results"
   ]
  },
  {
   "cell_type": "code",
   "execution_count": null,
   "metadata": {},
   "outputs": [],
   "source": [
    "resnet2 = load_model('task3_models/resnet_last.h5')"
   ]
  },
  {
   "cell_type": "code",
   "execution_count": 15,
   "metadata": {},
   "outputs": [
    {
     "name": "stdout",
     "output_type": "stream",
     "text": [
      "Found 193 images belonging to 1 classes.\n"
     ]
    }
   ],
   "source": [
    "# Validation predictions\n",
    "test = gen.flow_from_directory('task3_data_final/test_valid',\n",
    "                                target_size=(224,224),\n",
    "                                class_mode='categorical',\n",
    "                                shuffle=False,\n",
    "                                batch_size=batch_size)"
   ]
  },
  {
   "cell_type": "code",
   "execution_count": 16,
   "metadata": {},
   "outputs": [],
   "source": [
    "f_names = np.array(test.filenames)\n",
    "predictions = np.array(resnet2.predict_generator(test))\n",
    "resnet_predictions = np.column_stack((f_names, predictions))\n",
    "resnet_predictions[:,0] = np.char.replace(resnet_predictions[:,0], \"test/\", \"\")\n",
    "resnet_predictions[:,0] = np.char.replace(resnet_predictions[:,0], \".jpg\", \"\")\n",
    "resnet_predictions = np.insert(resnet_predictions, 0, np.array((\"image\",\"AKIEC\",\"BCC\",\"BKL\",\"DF\",\"MEL\",\"NV\",\"VASC\")), 0)\n",
    "np.savetxt(\"resnet_valid_predictions.csv\", resnet_predictions, delimiter=\",\", fmt=\"%s\")"
   ]
  },
  {
   "cell_type": "code",
   "execution_count": 18,
   "metadata": {},
   "outputs": [
    {
     "name": "stdout",
     "output_type": "stream",
     "text": [
      "Found 1512 images belonging to 1 classes.\n"
     ]
    }
   ],
   "source": [
    "# Final predictions\n",
    "test = gen.flow_from_directory('task3_data_final/test_final',\n",
    "                                target_size=(224,224),\n",
    "                                class_mode='categorical',\n",
    "                                shuffle=False,\n",
    "                                batch_size=batch_size)"
   ]
  },
  {
   "cell_type": "code",
   "execution_count": 19,
   "metadata": {},
   "outputs": [],
   "source": [
    "f_names = np.array(test.filenames)\n",
    "predictions = np.array(resnet2.predict_generator(test))\n",
    "resnet_predictions = np.column_stack((f_names, predictions))\n",
    "resnet_predictions[:,0] = np.char.replace(resnet_predictions[:,0], \"test/\", \"\")\n",
    "resnet_predictions[:,0] = np.char.replace(resnet_predictions[:,0], \".jpg\", \"\")\n",
    "resnet_predictions = np.insert(resnet_predictions, 0, np.array((\"image\",\"AKIEC\",\"BCC\",\"BKL\",\"DF\",\"MEL\",\"NV\",\"VASC\")), 0)\n",
    "np.savetxt(\"resnet_final_predictions.csv\", resnet_predictions, delimiter=\",\", fmt=\"%s\")"
   ]
  },
  {
   "cell_type": "code",
   "execution_count": null,
   "metadata": {},
   "outputs": [],
   "source": []
  },
  {
   "cell_type": "code",
   "execution_count": null,
   "metadata": {},
   "outputs": [],
   "source": []
  }
 ],
 "metadata": {
  "kernelspec": {
   "display_name": "Python 3",
   "language": "python",
   "name": "python3"
  },
  "language_info": {
   "codemirror_mode": {
    "name": "ipython",
    "version": 3
   },
   "file_extension": ".py",
   "mimetype": "text/x-python",
   "name": "python",
   "nbconvert_exporter": "python",
   "pygments_lexer": "ipython3",
   "version": "3.6.3"
  }
 },
 "nbformat": 4,
 "nbformat_minor": 2
}
